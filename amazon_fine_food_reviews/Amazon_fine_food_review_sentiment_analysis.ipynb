{
 "cells": [
  {
   "cell_type": "code",
   "execution_count": null,
   "metadata": {},
   "outputs": [
    {
     "ename": "Error",
     "evalue": "Jupyter cannot be started. Error attempting to locate jupyter: ",
     "output_type": "error",
     "traceback": [
      "Error: Jupyter cannot be started. Error attempting to locate jupyter:",
      "at A.startServer (/home/timbo/.vscode-server/extensions/ms-python.python-2020.2.64397/out/client/extension.js:1:786058)",
      "at async A.ensureServerAndNotebookImpl (/home/timbo/.vscode-server/extensions/ms-python.python-2020.2.64397/out/client/extension.js:1:785513)"
     ]
    }
   ],
   "source": [
    "!unzip amazon-fine-food-reviews.zip"
   ]
  },
  {
   "cell_type": "markdown",
   "metadata": {},
   "source": [
    "## Business Case"
   ]
  },
  {
   "cell_type": "markdown",
   "metadata": {},
   "source": [
    "The web contains enormous amounts of user generated data. One huge source of such information can be found in the myriads of customer written complaints and reviews.\n",
    "\n",
    "The aim of this data challenge is to show that it is possible to extract useful insights from text and that there is value in text data. Can you convince the C-suite of an online food seller company that there is value in working with the text data? In a first meeting you want to show them, that a machine learning model can learn from the review summary and the review itself to distinguish between different levels of consumer satisfaction.\n",
    "\n",
    "\n",
    "\n",
    "The situation in a little more detail\n",
    "\n",
    "The food retailer wants to understand their users as well as users feelings about the products they are selling.\n",
    "\n",
    "How could a model as described above help in this situation? Make assumptions or educated guesses if some details are missing that you would like to use for your argument."
   ]
  },
  {
   "cell_type": "code",
   "execution_count": 3,
   "metadata": {},
   "outputs": [],
   "source": [
    "import pandas as pd\n",
    "import matplotlib.pyplot as plt\n",
    "%matplotlib inline"
   ]
  },
  {
   "cell_type": "code",
   "execution_count": 4,
   "metadata": {},
   "outputs": [],
   "source": [
    "df_reviews = pd.read_csv('Reviews.csv')"
   ]
  },
  {
   "cell_type": "markdown",
   "metadata": {},
   "source": [
    "## Data Description"
   ]
  },
  {
   "cell_type": "markdown",
   "metadata": {},
   "source": [
    "This dataset consists of reviews of fine foods from amazon. The data span a period of more than 10 years, including all ~500,000 reviews up to October 2012. Reviews include product and user information, ratings, and a plain text review. It also includes reviews from all other Amazon categories.\n",
    "\n",
    "Data includes:\n",
    "\n",
    "- Reviews from Oct 1999 - Oct 2012\n",
    "- 568,454 reviews\n",
    "- 256,059 users\n",
    "- 74,258 products\n",
    "- 260 users with > 50 reviews\n",
    "\n",
    "Columns:\n",
    "\n",
    "- Id Row Id\n",
    "- ProductId Unique identifier for the product\n",
    "- UserId Unqiue identifier for the user\n",
    "- ProfileName Profile name of the user\n",
    "- HelpfulnessNumerator Number of users who found the review helpful\n",
    "- HelpfulnessDenominator Number of users who indicated whether they found the review helpful or not\n",
    "- Score Rating between 1 and 5\n",
    "- Time Timestamp for the review\n",
    "- Summary Brief summary of the review\n",
    "- Text Text of the review"
   ]
  },
  {
   "cell_type": "code",
   "execution_count": null,
   "metadata": {},
   "outputs": [
    {
     "ename": "Error",
     "evalue": "Jupyter cannot be started. Error attempting to locate jupyter: ",
     "output_type": "error",
     "traceback": [
      "Error: Jupyter cannot be started. Error attempting to locate jupyter:",
      "at A.startServer (/home/timbo/.vscode-server/extensions/ms-python.python-2020.2.64397/out/client/extension.js:1:786058)",
      "at async A.ensureServerAndNotebookImpl (/home/timbo/.vscode-server/extensions/ms-python.python-2020.2.64397/out/client/extension.js:1:785513)"
     ]
    }
   ],
   "source": [
    "df_reviews.info()"
   ]
  },
  {
   "cell_type": "markdown",
   "metadata": {},
   "source": [
    "=> **'ProfileName' and 'Summary' contains nulls**"
   ]
  },
  {
   "cell_type": "code",
   "execution_count": null,
   "metadata": {},
   "outputs": [
    {
     "ename": "Error",
     "evalue": "Jupyter cannot be started. Error attempting to locate jupyter: ",
     "output_type": "error",
     "traceback": [
      "Error: Jupyter cannot be started. Error attempting to locate jupyter:",
      "at A.startServer (/home/timbo/.vscode-server/extensions/ms-python.python-2020.2.64397/out/client/extension.js:1:786058)",
      "at async A.ensureServerAndNotebookImpl (/home/timbo/.vscode-server/extensions/ms-python.python-2020.2.64397/out/client/extension.js:1:785513)"
     ]
    }
   ],
   "source": [
    "df_reviews.describe(include='all')"
   ]
  },
  {
   "cell_type": "code",
   "execution_count": null,
   "metadata": {},
   "outputs": [
    {
     "ename": "Error",
     "evalue": "Jupyter cannot be started. Error attempting to locate jupyter: ",
     "output_type": "error",
     "traceback": [
      "Error: Jupyter cannot be started. Error attempting to locate jupyter:",
      "at A.startServer (/home/timbo/.vscode-server/extensions/ms-python.python-2020.2.64397/out/client/extension.js:1:786058)",
      "at async A.ensureServerAndNotebookImpl (/home/timbo/.vscode-server/extensions/ms-python.python-2020.2.64397/out/client/extension.js:1:785513)"
     ]
    }
   ],
   "source": [
    "df_reviews.head()"
   ]
  },
  {
   "cell_type": "markdown",
   "metadata": {},
   "source": [
    "### Score"
   ]
  },
  {
   "cell_type": "code",
   "execution_count": null,
   "metadata": {},
   "outputs": [
    {
     "ename": "Error",
     "evalue": "Jupyter cannot be started. Error attempting to locate jupyter: ",
     "output_type": "error",
     "traceback": [
      "Error: Jupyter cannot be started. Error attempting to locate jupyter:",
      "at A.startServer (/home/timbo/.vscode-server/extensions/ms-python.python-2020.2.64397/out/client/extension.js:1:786058)",
      "at async A.ensureServerAndNotebookImpl (/home/timbo/.vscode-server/extensions/ms-python.python-2020.2.64397/out/client/extension.js:1:785513)"
     ]
    }
   ],
   "source": [
    "df_reviews['Score'].unique()"
   ]
  },
  {
   "cell_type": "code",
   "execution_count": null,
   "metadata": {},
   "outputs": [
    {
     "ename": "Error",
     "evalue": "Jupyter cannot be started. Error attempting to locate jupyter: ",
     "output_type": "error",
     "traceback": [
      "Error: Jupyter cannot be started. Error attempting to locate jupyter:",
      "at A.startServer (/home/timbo/.vscode-server/extensions/ms-python.python-2020.2.64397/out/client/extension.js:1:786058)",
      "at async A.ensureServerAndNotebookImpl (/home/timbo/.vscode-server/extensions/ms-python.python-2020.2.64397/out/client/extension.js:1:785513)"
     ]
    }
   ],
   "source": [
    "pd.crosstab(df_reviews['Score'],'count')"
   ]
  },
  {
   "cell_type": "markdown",
   "metadata": {},
   "source": [
    "categorical variable 'score' looks like the perfect candidate for the target variable for the sentiment analysis. It has 5 different categories ranging from 1 to 5. Let's consider the categories 0 and 1 as negative reviews, the category 2 as neutral and the categories 4 and 5 as positive reviews. But the categories are **not balanced** (category 5 has a lot more entries than category 2)."
   ]
  },
  {
   "cell_type": "markdown",
   "metadata": {},
   "source": [
    "### ProductId"
   ]
  },
  {
   "cell_type": "code",
   "execution_count": null,
   "metadata": {},
   "outputs": [
    {
     "ename": "Error",
     "evalue": "Jupyter cannot be started. Error attempting to locate jupyter: ",
     "output_type": "error",
     "traceback": [
      "Error: Jupyter cannot be started. Error attempting to locate jupyter:",
      "at A.startServer (/home/timbo/.vscode-server/extensions/ms-python.python-2020.2.64397/out/client/extension.js:1:786058)",
      "at async A.ensureServerAndNotebookImpl (/home/timbo/.vscode-server/extensions/ms-python.python-2020.2.64397/out/client/extension.js:1:785513)"
     ]
    }
   ],
   "source": [
    "len(df_reviews['ProductId'].unique()) "
   ]
  },
  {
   "cell_type": "markdown",
   "metadata": {},
   "source": [
    "There are more than one review about the same product but which product was reviewed most often?"
   ]
  },
  {
   "cell_type": "code",
   "execution_count": null,
   "metadata": {},
   "outputs": [
    {
     "ename": "Error",
     "evalue": "Jupyter cannot be started. Error attempting to locate jupyter: ",
     "output_type": "error",
     "traceback": [
      "Error: Jupyter cannot be started. Error attempting to locate jupyter:",
      "at A.startServer (/home/timbo/.vscode-server/extensions/ms-python.python-2020.2.64397/out/client/extension.js:1:786058)",
      "at async A.ensureServerAndNotebookImpl (/home/timbo/.vscode-server/extensions/ms-python.python-2020.2.64397/out/client/extension.js:1:785513)"
     ]
    }
   ],
   "source": [
    "df_reviews['ProductId'].value_counts()[:10]"
   ]
  },
  {
   "cell_type": "markdown",
   "metadata": {},
   "source": [
    "How many products were reviewed only once?"
   ]
  },
  {
   "cell_type": "code",
   "execution_count": null,
   "metadata": {},
   "outputs": [
    {
     "ename": "Error",
     "evalue": "Jupyter cannot be started. Error attempting to locate jupyter: ",
     "output_type": "error",
     "traceback": [
      "Error: Jupyter cannot be started. Error attempting to locate jupyter:",
      "at A.startServer (/home/timbo/.vscode-server/extensions/ms-python.python-2020.2.64397/out/client/extension.js:1:786058)",
      "at async A.ensureServerAndNotebookImpl (/home/timbo/.vscode-server/extensions/ms-python.python-2020.2.64397/out/client/extension.js:1:785513)"
     ]
    }
   ],
   "source": [
    "df_reviews['ProductId'].value_counts()[df_reviews['ProductId'].value_counts() == 1].count()"
   ]
  },
  {
   "cell_type": "code",
   "execution_count": null,
   "metadata": {},
   "outputs": [
    {
     "ename": "Error",
     "evalue": "Jupyter cannot be started. Error attempting to locate jupyter: ",
     "output_type": "error",
     "traceback": [
      "Error: Jupyter cannot be started. Error attempting to locate jupyter:",
      "at A.startServer (/home/timbo/.vscode-server/extensions/ms-python.python-2020.2.64397/out/client/extension.js:1:786058)",
      "at async A.ensureServerAndNotebookImpl (/home/timbo/.vscode-server/extensions/ms-python.python-2020.2.64397/out/client/extension.js:1:785513)"
     ]
    }
   ],
   "source": [
    "df_reviews['ProductId'].value_counts().value_counts()"
   ]
  },
  {
   "cell_type": "markdown",
   "metadata": {},
   "source": [
    "Many products have only a small number of reviews"
   ]
  },
  {
   "cell_type": "markdown",
   "metadata": {},
   "source": [
    "### UserId"
   ]
  },
  {
   "cell_type": "code",
   "execution_count": null,
   "metadata": {},
   "outputs": [
    {
     "ename": "Error",
     "evalue": "Jupyter cannot be started. Error attempting to locate jupyter: ",
     "output_type": "error",
     "traceback": [
      "Error: Jupyter cannot be started. Error attempting to locate jupyter:",
      "at A.startServer (/home/timbo/.vscode-server/extensions/ms-python.python-2020.2.64397/out/client/extension.js:1:786058)",
      "at async A.ensureServerAndNotebookImpl (/home/timbo/.vscode-server/extensions/ms-python.python-2020.2.64397/out/client/extension.js:1:785513)"
     ]
    }
   ],
   "source": [
    "df_reviews['UserId'].value_counts()"
   ]
  },
  {
   "cell_type": "markdown",
   "metadata": {},
   "source": [
    "Some users reviewed more than once, especially user 'A3OXHLG6DIBRW8' reviewed 448 times. Which products did this user review?"
   ]
  },
  {
   "cell_type": "code",
   "execution_count": null,
   "metadata": {},
   "outputs": [
    {
     "ename": "Error",
     "evalue": "Jupyter cannot be started. Error attempting to locate jupyter: ",
     "output_type": "error",
     "traceback": [
      "Error: Jupyter cannot be started. Error attempting to locate jupyter:",
      "at A.startServer (/home/timbo/.vscode-server/extensions/ms-python.python-2020.2.64397/out/client/extension.js:1:786058)",
      "at async A.ensureServerAndNotebookImpl (/home/timbo/.vscode-server/extensions/ms-python.python-2020.2.64397/out/client/extension.js:1:785513)"
     ]
    }
   ],
   "source": [
    "df_reviews[df_reviews['UserId'] == df_reviews['UserId'].value_counts().index[0]]['ProductId'].value_counts()"
   ]
  },
  {
   "cell_type": "markdown",
   "metadata": {},
   "source": [
    "This user reviewed some products more than once!\n",
    "\n",
    "How many users reviewed the same product more than once?"
   ]
  },
  {
   "cell_type": "code",
   "execution_count": null,
   "metadata": {},
   "outputs": [
    {
     "ename": "Error",
     "evalue": "Jupyter cannot be started. Error attempting to locate jupyter: ",
     "output_type": "error",
     "traceback": [
      "Error: Jupyter cannot be started. Error attempting to locate jupyter:",
      "at A.startServer (/home/timbo/.vscode-server/extensions/ms-python.python-2020.2.64397/out/client/extension.js:1:786058)",
      "at async A.ensureServerAndNotebookImpl (/home/timbo/.vscode-server/extensions/ms-python.python-2020.2.64397/out/client/extension.js:1:785513)"
     ]
    }
   ],
   "source": [
    "g = df_reviews.groupby(['UserId','ProductId']).size().reset_index(name='Size')\nlen(g[g['Size'] > 1]['UserId'].unique())"
   ]
  },
  {
   "cell_type": "markdown",
   "metadata": {},
   "source": [
    "1243 user reviewed a product more than once"
   ]
  },
  {
   "cell_type": "markdown",
   "metadata": {},
   "source": [
    "### ProfileName"
   ]
  },
  {
   "cell_type": "markdown",
   "metadata": {},
   "source": [
    "If we compare the statistics from above 'ProfileName' and 'UserId' are not always the same, i.e. the same user can have several profile names. \n",
    "\n",
    "Or can one profile name have more than one user id?"
   ]
  },
  {
   "cell_type": "code",
   "execution_count": null,
   "metadata": {},
   "outputs": [
    {
     "ename": "Error",
     "evalue": "Jupyter cannot be started. Error attempting to locate jupyter: ",
     "output_type": "error",
     "traceback": [
      "Error: Jupyter cannot be started. Error attempting to locate jupyter:",
      "at A.startServer (/home/timbo/.vscode-server/extensions/ms-python.python-2020.2.64397/out/client/extension.js:1:786058)",
      "at async A.ensureServerAndNotebookImpl (/home/timbo/.vscode-server/extensions/ms-python.python-2020.2.64397/out/client/extension.js:1:785513)"
     ]
    }
   ],
   "source": [
    "g = df_reviews.groupby(['UserId'])['ProfileName'].agg(['nunique','unique']).reset_index()\ng[g['nunique'] > 1]"
   ]
  },
  {
   "cell_type": "code",
   "execution_count": null,
   "metadata": {},
   "outputs": [
    {
     "ename": "Error",
     "evalue": "Jupyter cannot be started. Error attempting to locate jupyter: ",
     "output_type": "error",
     "traceback": [
      "Error: Jupyter cannot be started. Error attempting to locate jupyter:",
      "at A.startServer (/home/timbo/.vscode-server/extensions/ms-python.python-2020.2.64397/out/client/extension.js:1:786058)",
      "at async A.ensureServerAndNotebookImpl (/home/timbo/.vscode-server/extensions/ms-python.python-2020.2.64397/out/client/extension.js:1:785513)"
     ]
    }
   ],
   "source": [
    "g[g['nunique'] > 1].shape"
   ]
  },
  {
   "cell_type": "code",
   "execution_count": null,
   "metadata": {},
   "outputs": [
    {
     "ename": "Error",
     "evalue": "Jupyter cannot be started. Error attempting to locate jupyter: ",
     "output_type": "error",
     "traceback": [
      "Error: Jupyter cannot be started. Error attempting to locate jupyter:",
      "at A.startServer (/home/timbo/.vscode-server/extensions/ms-python.python-2020.2.64397/out/client/extension.js:1:786058)",
      "at async A.ensureServerAndNotebookImpl (/home/timbo/.vscode-server/extensions/ms-python.python-2020.2.64397/out/client/extension.js:1:785513)"
     ]
    }
   ],
   "source": [
    "df_reviews[df_reviews['UserId'] == 'AX148M3X6EUGN']"
   ]
  },
  {
   "cell_type": "code",
   "execution_count": null,
   "metadata": {},
   "outputs": [
    {
     "ename": "Error",
     "evalue": "Jupyter cannot be started. Error attempting to locate jupyter: ",
     "output_type": "error",
     "traceback": [
      "Error: Jupyter cannot be started. Error attempting to locate jupyter:",
      "at A.startServer (/home/timbo/.vscode-server/extensions/ms-python.python-2020.2.64397/out/client/extension.js:1:786058)",
      "at async A.ensureServerAndNotebookImpl (/home/timbo/.vscode-server/extensions/ms-python.python-2020.2.64397/out/client/extension.js:1:785513)"
     ]
    }
   ],
   "source": [
    "df_reviews[df_reviews['ProfileName'].isna()].shape"
   ]
  },
  {
   "cell_type": "code",
   "execution_count": null,
   "metadata": {},
   "outputs": [
    {
     "ename": "Error",
     "evalue": "Jupyter cannot be started. Error attempting to locate jupyter: ",
     "output_type": "error",
     "traceback": [
      "Error: Jupyter cannot be started. Error attempting to locate jupyter:",
      "at A.startServer (/home/timbo/.vscode-server/extensions/ms-python.python-2020.2.64397/out/client/extension.js:1:786058)",
      "at async A.ensureServerAndNotebookImpl (/home/timbo/.vscode-server/extensions/ms-python.python-2020.2.64397/out/client/extension.js:1:785513)"
     ]
    }
   ],
   "source": [
    "profile_names_nulls = df_reviews[df_reviews['ProfileName'].isna()]['UserId'].to_list()"
   ]
  },
  {
   "cell_type": "code",
   "execution_count": null,
   "metadata": {},
   "outputs": [
    {
     "ename": "Error",
     "evalue": "Jupyter cannot be started. Error attempting to locate jupyter: ",
     "output_type": "error",
     "traceback": [
      "Error: Jupyter cannot be started. Error attempting to locate jupyter:",
      "at A.startServer (/home/timbo/.vscode-server/extensions/ms-python.python-2020.2.64397/out/client/extension.js:1:786058)",
      "at async A.ensureServerAndNotebookImpl (/home/timbo/.vscode-server/extensions/ms-python.python-2020.2.64397/out/client/extension.js:1:785513)"
     ]
    }
   ],
   "source": [
    "df_reviews[df_reviews['UserId'].isin(profile_names_nulls)]"
   ]
  },
  {
   "cell_type": "code",
   "execution_count": null,
   "metadata": {},
   "outputs": [
    {
     "ename": "Error",
     "evalue": "Jupyter cannot be started. Error attempting to locate jupyter: ",
     "output_type": "error",
     "traceback": [
      "Error: Jupyter cannot be started. Error attempting to locate jupyter:",
      "at A.startServer (/home/timbo/.vscode-server/extensions/ms-python.python-2020.2.64397/out/client/extension.js:1:786058)",
      "at async A.ensureServerAndNotebookImpl (/home/timbo/.vscode-server/extensions/ms-python.python-2020.2.64397/out/client/extension.js:1:785513)"
     ]
    }
   ],
   "source": [
    "df_reviews[df_reviews['UserId'].isin(profile_names_nulls)].shape"
   ]
  },
  {
   "cell_type": "markdown",
   "metadata": {},
   "source": [
    "The profile names with nulls have no other user id's with no nulls in the profile names"
   ]
  },
  {
   "cell_type": "code",
   "execution_count": null,
   "metadata": {},
   "outputs": [
    {
     "ename": "Error",
     "evalue": "Jupyter cannot be started. Error attempting to locate jupyter: ",
     "output_type": "error",
     "traceback": [
      "Error: Jupyter cannot be started. Error attempting to locate jupyter:",
      "at A.startServer (/home/timbo/.vscode-server/extensions/ms-python.python-2020.2.64397/out/client/extension.js:1:786058)",
      "at async A.ensureServerAndNotebookImpl (/home/timbo/.vscode-server/extensions/ms-python.python-2020.2.64397/out/client/extension.js:1:785513)"
     ]
    }
   ],
   "source": [
    "g = df_reviews.groupby(['ProfileName'])['UserId'].agg(['nunique','unique']).reset_index()\ng[g['nunique'] > 1]"
   ]
  },
  {
   "cell_type": "code",
   "execution_count": null,
   "metadata": {},
   "outputs": [
    {
     "ename": "Error",
     "evalue": "Jupyter cannot be started. Error attempting to locate jupyter: ",
     "output_type": "error",
     "traceback": [
      "Error: Jupyter cannot be started. Error attempting to locate jupyter:",
      "at A.startServer (/home/timbo/.vscode-server/extensions/ms-python.python-2020.2.64397/out/client/extension.js:1:786058)",
      "at async A.ensureServerAndNotebookImpl (/home/timbo/.vscode-server/extensions/ms-python.python-2020.2.64397/out/client/extension.js:1:785513)"
     ]
    }
   ],
   "source": [
    "g['nunique'].max()"
   ]
  },
  {
   "cell_type": "markdown",
   "metadata": {},
   "source": [
    "We have 50 UserId's with more than one ProfileName but 10107 ProfileName's with more than one UserId. For instance 166 user id's have the same profile name."
   ]
  },
  {
   "cell_type": "markdown",
   "metadata": {},
   "source": [
    "### HelpfullnessNumerator"
   ]
  },
  {
   "cell_type": "code",
   "execution_count": null,
   "metadata": {},
   "outputs": [
    {
     "ename": "Error",
     "evalue": "Jupyter cannot be started. Error attempting to locate jupyter: ",
     "output_type": "error",
     "traceback": [
      "Error: Jupyter cannot be started. Error attempting to locate jupyter:",
      "at A.startServer (/home/timbo/.vscode-server/extensions/ms-python.python-2020.2.64397/out/client/extension.js:1:786058)",
      "at async A.ensureServerAndNotebookImpl (/home/timbo/.vscode-server/extensions/ms-python.python-2020.2.64397/out/client/extension.js:1:785513)"
     ]
    }
   ],
   "source": [
    "df_reviews.boxplot(column='HelpfulnessNumerator')"
   ]
  },
  {
   "cell_type": "code",
   "execution_count": null,
   "metadata": {},
   "outputs": [],
   "source": []
  }
 ],
 "metadata": {
  "kernelspec": {
   "display_name": "Python 3",
   "language": "python",
   "name": "python3"
  },
  "language_info": {
   "codemirror_mode": {
    "name": "ipython",
    "version": 3
   },
   "file_extension": ".py",
   "mimetype": "text/x-python",
   "name": "python",
   "nbconvert_exporter": "python",
   "pygments_lexer": "ipython3",
   "version": "3.7.4-final"
  }
 },
 "nbformat": 4,
 "nbformat_minor": 4
}